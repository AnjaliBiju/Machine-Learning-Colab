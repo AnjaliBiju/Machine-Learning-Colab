{
  "nbformat": 4,
  "nbformat_minor": 0,
  "metadata": {
    "colab": {
      "provenance": [],
      "authorship_tag": "ABX9TyP8cAfA+h5rPTrGl4Pj4TSp",
      "include_colab_link": true
    },
    "kernelspec": {
      "name": "python3",
      "display_name": "Python 3"
    },
    "language_info": {
      "name": "python"
    }
  },
  "cells": [
    {
      "cell_type": "markdown",
      "metadata": {
        "id": "view-in-github",
        "colab_type": "text"
      },
      "source": [
        "<a href=\"https://colab.research.google.com/github/AnjaliBiju/Machine-Learning-Colab/blob/main/Recommender_Systems.ipynb\" target=\"_parent\"><img src=\"https://colab.research.google.com/assets/colab-badge.svg\" alt=\"Open In Colab\"/></a>"
      ]
    },
    {
      "cell_type": "markdown",
      "source": [
        "# Recommender Systems"
      ],
      "metadata": {
        "id": "1B1xnscQVMoJ"
      }
    },
    {
      "cell_type": "markdown",
      "source": [
        "* Recommender Systems are type of machine learning application designed to suggest relevant items to users based on their preference, behaviours and past interactions.\n",
        "* Fully developed Recommender Systems are extremely complex and resource intensive"
      ],
      "metadata": {
        "id": "OG2oAshDVZrk"
      }
    },
    {
      "cell_type": "markdown",
      "source": [
        "Two most common types of recommender systems are:\n",
        "* **Collaborative Filtering**: produces recommendations based on the knowledge of users attitude to items, that is, it uses the \"wisdom of crowd\" to recommend items.\n",
        "* **Content based recommender systems**: focus on the attributes of the items and gives you the recommendation based on the similarity between them"
      ],
      "metadata": {
        "id": "BJZO5zlpV8pj"
      }
    },
    {
      "cell_type": "code",
      "source": [],
      "metadata": {
        "id": "nICsMkowWAVL"
      },
      "execution_count": null,
      "outputs": []
    }
  ]
}