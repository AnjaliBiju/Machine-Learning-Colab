{
  "nbformat": 4,
  "nbformat_minor": 0,
  "metadata": {
    "colab": {
      "provenance": [],
      "authorship_tag": "ABX9TyPb5/eUGdjGUjOgdD/Aeyw/",
      "include_colab_link": true
    },
    "kernelspec": {
      "name": "python3",
      "display_name": "Python 3"
    },
    "language_info": {
      "name": "python"
    }
  },
  "cells": [
    {
      "cell_type": "markdown",
      "metadata": {
        "id": "view-in-github",
        "colab_type": "text"
      },
      "source": [
        "<a href=\"https://colab.research.google.com/github/AnjaliBiju/Machine-Learning-Colab/blob/main/Decision_Trees_and_Random_Forests.ipynb\" target=\"_parent\"><img src=\"https://colab.research.google.com/assets/colab-badge.svg\" alt=\"Open In Colab\"/></a>"
      ]
    },
    {
      "cell_type": "markdown",
      "source": [
        "**Decision Tree** is a model that makes predictions by asking a series of yes/no questions about the data, like a flowchart. Each question splits the data into smaller groups until a final decision (a class or a value) is reached at a leaf."
      ],
      "metadata": {
        "id": "hKiXf5dyi9vw"
      }
    },
    {
      "cell_type": "markdown",
      "source": [
        "* Root node performs first split\n",
        "* Leaves are the terminal nodes that predict the outcome\n",
        "* A new random sample of features is chosen for every single tree at every single split"
      ],
      "metadata": {
        "id": "YklNF2kXj1Xj"
      }
    },
    {
      "cell_type": "markdown",
      "source": [
        "**Random Forests** - is an ensemble learning method that combines many decision trees to make better and more accurate predictions. Instead of relying on one tree, it builds multiple trees using random subsets of data and features, then takes the majority vote or average for predictions"
      ],
      "metadata": {
        "id": "rOwn6jUXk3WH"
      }
    },
    {
      "cell_type": "code",
      "source": [
        "#For code.. please refer to Kyphosis dataset"
      ],
      "metadata": {
        "id": "Cvmg1a2Smctl"
      },
      "execution_count": null,
      "outputs": []
    },
    {
      "cell_type": "code",
      "source": [],
      "metadata": {
        "id": "Ct3J0JF0mkL2"
      },
      "execution_count": null,
      "outputs": []
    }
  ]
}