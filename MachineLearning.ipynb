{
  "nbformat": 4,
  "nbformat_minor": 0,
  "metadata": {
    "colab": {
      "provenance": [],
      "authorship_tag": "ABX9TyN5eNbcjqp4B4mrwlSZHvum",
      "include_colab_link": true
    },
    "kernelspec": {
      "name": "python3",
      "display_name": "Python 3"
    },
    "language_info": {
      "name": "python"
    }
  },
  "cells": [
    {
      "cell_type": "markdown",
      "metadata": {
        "id": "view-in-github",
        "colab_type": "text"
      },
      "source": [
        "<a href=\"https://colab.research.google.com/github/AnjaliBiju/Machine-Learning-Colab/blob/main/MachineLearning.ipynb\" target=\"_parent\"><img src=\"https://colab.research.google.com/assets/colab-badge.svg\" alt=\"Open In Colab\"/></a>"
      ]
    },
    {
      "cell_type": "markdown",
      "source": [
        "**MACHINE LEARNING**"
      ],
      "metadata": {
        "id": "vsOREYrkPg6o"
      }
    },
    {
      "cell_type": "markdown",
      "source": [
        "Cross Validation and Bias Variance Trade Off"
      ],
      "metadata": {
        "id": "mwyqUe8qQGtg"
      }
    },
    {
      "cell_type": "markdown",
      "source": [
        "*   A low variance, low bias model is a really good prediction model\n",
        "*   a low bias, high variance model will be very close to the target but will be scattered all over the place"
      ],
      "metadata": {
        "id": "YAfUWH76QmQ7"
      }
    },
    {
      "cell_type": "markdown",
      "source": [
        "Logistic Regression"
      ],
      "metadata": {
        "id": "yFKhqA--Ssn_"
      }
    },
    {
      "cell_type": "markdown",
      "source": [
        "Sigmoid Function:\n",
        "\n",
        "*   fi(z)=1/(1+ (e^-z) )"
      ],
      "metadata": {
        "id": "YQ3EpLRGToKb"
      }
    },
    {
      "cell_type": "code",
      "source": [],
      "metadata": {
        "id": "qgPIJgTyTq94"
      },
      "execution_count": null,
      "outputs": []
    }
  ]
}